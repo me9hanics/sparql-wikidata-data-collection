{
 "cells": [
  {
   "cell_type": "code",
   "execution_count": null,
   "metadata": {},
   "outputs": [],
   "source": [
    "import requests\n",
    "import time\n",
    "\n",
    "def get_artist_info(artist_name, endpoint_url=\"https://query.wikidata.org/sparql\", retries=3, delay=1):\n",
    "    # SPARQL query to fetch the birth place, birth date, death date, and place of death\n",
    "    query = '''\n",
    "    SELECT ?artist ?artistLabel ?placeOfBirthLabel ?dateOfBirth ?dateOfDeath ?placeOfDeathLabel WHERE {\n",
    "      ?artist ?label \"%s\"@en.\n",
    "      ?artist wdt:P19 ?placeOfBirth.\n",
    "      ?artist wdt:P569 ?dateOfBirth.\n",
    "      ?artist wdt:P570 ?dateOfDeath.\n",
    "      ?artist wdt:P20 ?placeOfDeath.\n",
    "      SERVICE wikibase:label { bd:serviceParam wikibase:language \"en\". }\n",
    "    }\n",
    "    LIMIT 1\n",
    "    ''' % artist_name.replace('\"', '\\\"')\n",
    "\n",
    "    # Attempt the request up to 'retries' times\n",
    "    for attempt in range(retries):\n",
    "        response = requests.get(endpoint_url, params={'query': query, 'format': 'json'})\n",
    "        \n",
    "        if response.status_code == 200:\n",
    "            data = response.json()\n",
    "            results = data.get('results', {}).get('bindings', [])\n",
    "            if results:\n",
    "                artist_info = {\n",
    "                    'name': artist_name,\n",
    "                    'birth_place': results[0].get('placeOfBirthLabel', {}).get('value', None),\n",
    "                    'birth_date': results[0].get('dateOfBirth', {}).get('value', None),\n",
    "                    'death_date': results[0].get('dateOfDeath', {}).get('value', None),\n",
    "                    'death_place': results[0].get('placeOfDeathLabel', {}).get('value', None),\n",
    "                }\n",
    "                return artist_info\n",
    "            break  # Break out of the loop if successful\n",
    "        else:\n",
    "            print(f\"Error fetching data for {artist_name}, status code: {response.status_code}. Attempt {attempt + 1} of {retries}.\")\n",
    "            if response.status_code in [429, 500, 502, 503, 504]:\n",
    "                time.sleep(delay * (attempt + 1))  # Exponential back-off\n",
    "            else:\n",
    "                break  # Break on non-retryable error\n",
    "\n",
    "    return None"
   ]
  },
  {
   "cell_type": "markdown",
   "metadata": {},
   "source": [
    "https://www.wikidata.org/wiki/Q5582\n",
    "https://www.wikidata.org/wiki/Property:P580"
   ]
  }
 ],
 "metadata": {
  "language_info": {
   "name": "python"
  }
 },
 "nbformat": 4,
 "nbformat_minor": 2
}
